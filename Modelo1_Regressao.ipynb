{
  "cells": [
    {
      "cell_type": "markdown",
      "metadata": {
        "colab_type": "text",
        "id": "view-in-github"
      },
      "source": [
        "<a href=\"https://colab.research.google.com/github/Hendrickvk/HouseRegression/blob/main/Modelo1_Regressao.ipynb\" target=\"_parent\"><img src=\"https://colab.research.google.com/assets/colab-badge.svg\" alt=\"Open In Colab\"/></a>"
      ]
    },
    {
      "cell_type": "markdown",
      "metadata": {
        "id": "6lRu1e_keo7J"
      },
      "source": [
        "Notebook Inicial: Construção do MODEL1 com o Ames Housing Dataset"
      ]
    },
    {
      "cell_type": "markdown",
      "metadata": {
        "id": "kIbT7jzSgBgY"
      },
      "source": [
        "Desenvolver um modelo de regressão linear múltipla (MODEL1) para prever o preço de venda de imóveis residenciais em Ames, Iowa, utilizando o conjunto de dados Ames Housing.​\n",
        "\n",
        "Regras:\n",
        "1. Utilizar apenas transformações de potência nas variáveis originais (ex: log, raiz quadrada, quadrado, inverso).\n",
        "\n",
        "2. Não é permitido criar variáveis de interação (ex: x1 * x2).\n",
        "\n",
        "3. Cada variável pode ser usada apenas uma vez na equação (se usar x², não usar x).\n",
        "\n",
        "4. É permitido eliminar pontos de dados considerados inadequados (outliers).\n",
        "\n",
        "5. O modelo deve conter pelo menos 6 variáveis.\n",
        "\n",
        "6. O R² do modelo deve ser, no mínimo, 73%.​\n",
        "\n",
        "Etapas da Atividade:\n",
        "Análise Exploratória dos Dados (EDA)\n",
        "\n",
        "Carregar o conjunto de dados Ames Housing.\n",
        "\n",
        "Identificar variáveis com forte correlação com o preço de venda (SalePrice).\n",
        "\n",
        "Visualizar distribuições e relações entre variáveis.​\n",
        "\n",
        "Pré-processamento:\n",
        "\n",
        "Aplicar transformações apropriadas às variáveis (ex: log(SalePrice), sqrt(GrLivArea)).\n",
        "\n",
        "Tratar valores ausentes e outliers.\n",
        "\n",
        "Codificar variáveis categóricas, se necessário.​\n",
        "nycdatascience.com\n",
        "\n",
        "Construção do Modelo:\n",
        "\n",
        "Selecionar pelo menos 6 variáveis preditoras, aplicando as transformações permitidas.\n",
        "\n",
        "Ajustar o modelo de regressão linear múltipla.\n",
        "\n",
        "Avaliar o desempenho do modelo (R², RMSE).​\n",
        "\n",
        "Validação e Interpretação:\n",
        "\n",
        "Verificar as suposições do modelo (normalidade dos resíduos, homocedasticidade, multicolinearidade).\n",
        "\n",
        "Interpretar os coeficientes das variáveis.\n",
        "\n",
        "Discutir possíveis melhorias e limitações do modelo.​\n",
        "\n",
        "Entrega:\n",
        "Relatório contendo:\n",
        "\n",
        "Descrição do processo de EDA e pré-processamento.\n",
        "\n",
        "Especificação do modelo final com as variáveis selecionadas e suas transformações.\n",
        "\n",
        "Métricas de desempenho do modelo.\n",
        "\n",
        "Interpretação dos resultados.\n",
        "\n"
      ]
    },
    {
      "cell_type": "markdown",
      "metadata": {
        "id": "zwRo4r9NetdU"
      },
      "source": [
        "1. Importação das Bibliotecas Necessárias"
      ]
    },
    {
      "cell_type": "code",
      "execution_count": 5,
      "metadata": {
        "id": "fTBXe9KwexAh"
      },
      "outputs": [],
      "source": [
        "import pandas as pd\n",
        "import numpy as np\n",
        "import matplotlib.pyplot as plt\n",
        "import seaborn as sns\n",
        "from sklearn.linear_model import LinearRegression\n",
        "from sklearn.metrics import r2_score, mean_squared_error\n",
        "from sklearn.model_selection import train_test_split"
      ]
    },
    {
      "cell_type": "markdown",
      "metadata": {
        "id": "ibodUQk8e1Uh"
      },
      "source": [
        "2. Carregamento do Conjunto de Dados"
      ]
    },
    {
      "cell_type": "markdown",
      "metadata": {
        "id": "5nqQya93fGK1"
      },
      "source": [
        "O conjunto de dados pode ser obtido a partir do artigo original de De Cock (2011) ou de repositórios como o Kaggle. Certifique-se de ter o arquivo AmesHousing.csv no mesmo diretório do notebook ou forneça o caminho correto para o arquivo."
      ]
    },
    {
      "cell_type": "markdown",
      "metadata": {
        "id": "IAHlZQtu5M_z"
      },
      "source": []
    },
    {
      "cell_type": "markdown",
      "metadata": {
        "id": "ZXwjfIg45Mvr"
      },
      "source": []
    },
    {
      "cell_type": "code",
      "execution_count": 6,
      "metadata": {
        "id": "mnWI68COXs-w"
      },
      "outputs": [
        {
          "name": "stderr",
          "output_type": "stream",
          "text": [
            "c:\\Users\\Hendrick\\AppData\\Local\\Programs\\Python\\Python313\\Lib\\site-packages\\tqdm\\auto.py:21: TqdmWarning: IProgress not found. Please update jupyter and ipywidgets. See https://ipywidgets.readthedocs.io/en/stable/user_install.html\n",
            "  from .autonotebook import tqdm as notebook_tqdm\n"
          ]
        }
      ],
      "source": [
        "import kagglehub\n",
        "\n"
      ]
    },
    {
      "cell_type": "code",
      "execution_count": 8,
      "metadata": {
        "colab": {
          "base_uri": "https://localhost:8080/",
          "height": 236
        },
        "id": "fIU7H65HfA0B",
        "outputId": "e617b504-cfb7-453e-b380-6b4f63be8a85"
      },
      "outputs": [
        {
          "data": {
            "text/html": [
              "<div>\n",
              "<style scoped>\n",
              "    .dataframe tbody tr th:only-of-type {\n",
              "        vertical-align: middle;\n",
              "    }\n",
              "\n",
              "    .dataframe tbody tr th {\n",
              "        vertical-align: top;\n",
              "    }\n",
              "\n",
              "    .dataframe thead th {\n",
              "        text-align: right;\n",
              "    }\n",
              "</style>\n",
              "<table border=\"1\" class=\"dataframe\">\n",
              "  <thead>\n",
              "    <tr style=\"text-align: right;\">\n",
              "      <th></th>\n",
              "      <th>Id</th>\n",
              "      <th>MSSubClass</th>\n",
              "      <th>MSZoning</th>\n",
              "      <th>LotFrontage</th>\n",
              "      <th>LotArea</th>\n",
              "      <th>Street</th>\n",
              "      <th>Alley</th>\n",
              "      <th>LotShape</th>\n",
              "      <th>LandContour</th>\n",
              "      <th>Utilities</th>\n",
              "      <th>...</th>\n",
              "      <th>PoolQC</th>\n",
              "      <th>Fence</th>\n",
              "      <th>MiscFeature</th>\n",
              "      <th>MiscVal</th>\n",
              "      <th>MoSold</th>\n",
              "      <th>YrSold</th>\n",
              "      <th>SaleType</th>\n",
              "      <th>SaleCondition</th>\n",
              "      <th>SalePrice</th>\n",
              "      <th>KitchenQualNum</th>\n",
              "    </tr>\n",
              "  </thead>\n",
              "  <tbody>\n",
              "    <tr>\n",
              "      <th>0</th>\n",
              "      <td>1</td>\n",
              "      <td>60</td>\n",
              "      <td>RL</td>\n",
              "      <td>65.0</td>\n",
              "      <td>8450</td>\n",
              "      <td>Pave</td>\n",
              "      <td>NaN</td>\n",
              "      <td>Reg</td>\n",
              "      <td>Lvl</td>\n",
              "      <td>AllPub</td>\n",
              "      <td>...</td>\n",
              "      <td>NaN</td>\n",
              "      <td>NaN</td>\n",
              "      <td>NaN</td>\n",
              "      <td>0</td>\n",
              "      <td>2</td>\n",
              "      <td>2008</td>\n",
              "      <td>WD</td>\n",
              "      <td>Normal</td>\n",
              "      <td>208500</td>\n",
              "      <td>4</td>\n",
              "    </tr>\n",
              "    <tr>\n",
              "      <th>1</th>\n",
              "      <td>2</td>\n",
              "      <td>20</td>\n",
              "      <td>RL</td>\n",
              "      <td>80.0</td>\n",
              "      <td>9600</td>\n",
              "      <td>Pave</td>\n",
              "      <td>NaN</td>\n",
              "      <td>Reg</td>\n",
              "      <td>Lvl</td>\n",
              "      <td>AllPub</td>\n",
              "      <td>...</td>\n",
              "      <td>NaN</td>\n",
              "      <td>NaN</td>\n",
              "      <td>NaN</td>\n",
              "      <td>0</td>\n",
              "      <td>5</td>\n",
              "      <td>2007</td>\n",
              "      <td>WD</td>\n",
              "      <td>Normal</td>\n",
              "      <td>181500</td>\n",
              "      <td>3</td>\n",
              "    </tr>\n",
              "    <tr>\n",
              "      <th>2</th>\n",
              "      <td>3</td>\n",
              "      <td>60</td>\n",
              "      <td>RL</td>\n",
              "      <td>68.0</td>\n",
              "      <td>11250</td>\n",
              "      <td>Pave</td>\n",
              "      <td>NaN</td>\n",
              "      <td>IR1</td>\n",
              "      <td>Lvl</td>\n",
              "      <td>AllPub</td>\n",
              "      <td>...</td>\n",
              "      <td>NaN</td>\n",
              "      <td>NaN</td>\n",
              "      <td>NaN</td>\n",
              "      <td>0</td>\n",
              "      <td>9</td>\n",
              "      <td>2008</td>\n",
              "      <td>WD</td>\n",
              "      <td>Normal</td>\n",
              "      <td>223500</td>\n",
              "      <td>4</td>\n",
              "    </tr>\n",
              "    <tr>\n",
              "      <th>3</th>\n",
              "      <td>4</td>\n",
              "      <td>70</td>\n",
              "      <td>RL</td>\n",
              "      <td>60.0</td>\n",
              "      <td>9550</td>\n",
              "      <td>Pave</td>\n",
              "      <td>NaN</td>\n",
              "      <td>IR1</td>\n",
              "      <td>Lvl</td>\n",
              "      <td>AllPub</td>\n",
              "      <td>...</td>\n",
              "      <td>NaN</td>\n",
              "      <td>NaN</td>\n",
              "      <td>NaN</td>\n",
              "      <td>0</td>\n",
              "      <td>2</td>\n",
              "      <td>2006</td>\n",
              "      <td>WD</td>\n",
              "      <td>Abnorml</td>\n",
              "      <td>140000</td>\n",
              "      <td>4</td>\n",
              "    </tr>\n",
              "    <tr>\n",
              "      <th>4</th>\n",
              "      <td>5</td>\n",
              "      <td>60</td>\n",
              "      <td>RL</td>\n",
              "      <td>84.0</td>\n",
              "      <td>14260</td>\n",
              "      <td>Pave</td>\n",
              "      <td>NaN</td>\n",
              "      <td>IR1</td>\n",
              "      <td>Lvl</td>\n",
              "      <td>AllPub</td>\n",
              "      <td>...</td>\n",
              "      <td>NaN</td>\n",
              "      <td>NaN</td>\n",
              "      <td>NaN</td>\n",
              "      <td>0</td>\n",
              "      <td>12</td>\n",
              "      <td>2008</td>\n",
              "      <td>WD</td>\n",
              "      <td>Normal</td>\n",
              "      <td>250000</td>\n",
              "      <td>4</td>\n",
              "    </tr>\n",
              "  </tbody>\n",
              "</table>\n",
              "<p>5 rows × 82 columns</p>\n",
              "</div>"
            ],
            "text/plain": [
              "   Id  MSSubClass MSZoning  LotFrontage  LotArea Street Alley LotShape  \\\n",
              "0   1          60       RL         65.0     8450   Pave   NaN      Reg   \n",
              "1   2          20       RL         80.0     9600   Pave   NaN      Reg   \n",
              "2   3          60       RL         68.0    11250   Pave   NaN      IR1   \n",
              "3   4          70       RL         60.0     9550   Pave   NaN      IR1   \n",
              "4   5          60       RL         84.0    14260   Pave   NaN      IR1   \n",
              "\n",
              "  LandContour Utilities  ... PoolQC Fence MiscFeature MiscVal MoSold YrSold  \\\n",
              "0         Lvl    AllPub  ...    NaN   NaN         NaN       0      2   2008   \n",
              "1         Lvl    AllPub  ...    NaN   NaN         NaN       0      5   2007   \n",
              "2         Lvl    AllPub  ...    NaN   NaN         NaN       0      9   2008   \n",
              "3         Lvl    AllPub  ...    NaN   NaN         NaN       0      2   2006   \n",
              "4         Lvl    AllPub  ...    NaN   NaN         NaN       0     12   2008   \n",
              "\n",
              "  SaleType  SaleCondition  SalePrice  KitchenQualNum  \n",
              "0       WD         Normal     208500               4  \n",
              "1       WD         Normal     181500               3  \n",
              "2       WD         Normal     223500               4  \n",
              "3       WD        Abnorml     140000               4  \n",
              "4       WD         Normal     250000               4  \n",
              "\n",
              "[5 rows x 82 columns]"
            ]
          },
          "execution_count": 8,
          "metadata": {},
          "output_type": "execute_result"
        }
      ],
      "source": [
        "# Carregar os dados\n",
        "df = pd.read_csv('train.csv')\n",
        "\n",
        "kitchen_mapping={\n",
        "\n",
        "    \"Ex\":5,\n",
        "    \"Gd\":4,\n",
        "    \"TA\":3,\n",
        "    \"Fa\":2,\n",
        "    \"Po\":1\n",
        "}\n",
        "\n",
        "df[\"KitchenQualNum\"] = df[\"KitchenQual\"].map(kitchen_mapping)\n",
        "\n",
        "# Visualizar as primeiras linhas\n",
        "df.head()\n"
      ]
    },
    {
      "cell_type": "markdown",
      "metadata": {
        "id": "n-iBKXBzfSv0"
      },
      "source": [
        "3. Análise Exploratória dos Dados (EDA)\n",
        "Antes de construir o modelo, é fundamental entender a estrutura dos dados e identificar variáveis relevantes."
      ]
    },
    {
      "cell_type": "code",
      "execution_count": 9,
      "metadata": {
        "colab": {
          "base_uri": "https://localhost:8080/",
          "height": 1000
        },
        "id": "hA1D8omofcdL",
        "outputId": "f3bcb38b-a296-4c39-de86-d92f9d936ed4"
      },
      "outputs": [
        {
          "name": "stdout",
          "output_type": "stream",
          "text": [
            "<class 'pandas.core.frame.DataFrame'>\n",
            "RangeIndex: 1460 entries, 0 to 1459\n",
            "Data columns (total 82 columns):\n",
            " #   Column          Non-Null Count  Dtype  \n",
            "---  ------          --------------  -----  \n",
            " 0   Id              1460 non-null   int64  \n",
            " 1   MSSubClass      1460 non-null   int64  \n",
            " 2   MSZoning        1460 non-null   object \n",
            " 3   LotFrontage     1201 non-null   float64\n",
            " 4   LotArea         1460 non-null   int64  \n",
            " 5   Street          1460 non-null   object \n",
            " 6   Alley           91 non-null     object \n",
            " 7   LotShape        1460 non-null   object \n",
            " 8   LandContour     1460 non-null   object \n",
            " 9   Utilities       1460 non-null   object \n",
            " 10  LotConfig       1460 non-null   object \n",
            " 11  LandSlope       1460 non-null   object \n",
            " 12  Neighborhood    1460 non-null   object \n",
            " 13  Condition1      1460 non-null   object \n",
            " 14  Condition2      1460 non-null   object \n",
            " 15  BldgType        1460 non-null   object \n",
            " 16  HouseStyle      1460 non-null   object \n",
            " 17  OverallQual     1460 non-null   int64  \n",
            " 18  OverallCond     1460 non-null   int64  \n",
            " 19  YearBuilt       1460 non-null   int64  \n",
            " 20  YearRemodAdd    1460 non-null   int64  \n",
            " 21  RoofStyle       1460 non-null   object \n",
            " 22  RoofMatl        1460 non-null   object \n",
            " 23  Exterior1st     1460 non-null   object \n",
            " 24  Exterior2nd     1460 non-null   object \n",
            " 25  MasVnrType      588 non-null    object \n",
            " 26  MasVnrArea      1452 non-null   float64\n",
            " 27  ExterQual       1460 non-null   object \n",
            " 28  ExterCond       1460 non-null   object \n",
            " 29  Foundation      1460 non-null   object \n",
            " 30  BsmtQual        1423 non-null   object \n",
            " 31  BsmtCond        1423 non-null   object \n",
            " 32  BsmtExposure    1422 non-null   object \n",
            " 33  BsmtFinType1    1423 non-null   object \n",
            " 34  BsmtFinSF1      1460 non-null   int64  \n",
            " 35  BsmtFinType2    1422 non-null   object \n",
            " 36  BsmtFinSF2      1460 non-null   int64  \n",
            " 37  BsmtUnfSF       1460 non-null   int64  \n",
            " 38  TotalBsmtSF     1460 non-null   int64  \n",
            " 39  Heating         1460 non-null   object \n",
            " 40  HeatingQC       1460 non-null   object \n",
            " 41  CentralAir      1460 non-null   object \n",
            " 42  Electrical      1459 non-null   object \n",
            " 43  1stFlrSF        1460 non-null   int64  \n",
            " 44  2ndFlrSF        1460 non-null   int64  \n",
            " 45  LowQualFinSF    1460 non-null   int64  \n",
            " 46  GrLivArea       1460 non-null   int64  \n",
            " 47  BsmtFullBath    1460 non-null   int64  \n",
            " 48  BsmtHalfBath    1460 non-null   int64  \n",
            " 49  FullBath        1460 non-null   int64  \n",
            " 50  HalfBath        1460 non-null   int64  \n",
            " 51  BedroomAbvGr    1460 non-null   int64  \n",
            " 52  KitchenAbvGr    1460 non-null   int64  \n",
            " 53  KitchenQual     1460 non-null   object \n",
            " 54  TotRmsAbvGrd    1460 non-null   int64  \n",
            " 55  Functional      1460 non-null   object \n",
            " 56  Fireplaces      1460 non-null   int64  \n",
            " 57  FireplaceQu     770 non-null    object \n",
            " 58  GarageType      1379 non-null   object \n",
            " 59  GarageYrBlt     1379 non-null   float64\n",
            " 60  GarageFinish    1379 non-null   object \n",
            " 61  GarageCars      1460 non-null   int64  \n",
            " 62  GarageArea      1460 non-null   int64  \n",
            " 63  GarageQual      1379 non-null   object \n",
            " 64  GarageCond      1379 non-null   object \n",
            " 65  PavedDrive      1460 non-null   object \n",
            " 66  WoodDeckSF      1460 non-null   int64  \n",
            " 67  OpenPorchSF     1460 non-null   int64  \n",
            " 68  EnclosedPorch   1460 non-null   int64  \n",
            " 69  3SsnPorch       1460 non-null   int64  \n",
            " 70  ScreenPorch     1460 non-null   int64  \n",
            " 71  PoolArea        1460 non-null   int64  \n",
            " 72  PoolQC          7 non-null      object \n",
            " 73  Fence           281 non-null    object \n",
            " 74  MiscFeature     54 non-null     object \n",
            " 75  MiscVal         1460 non-null   int64  \n",
            " 76  MoSold          1460 non-null   int64  \n",
            " 77  YrSold          1460 non-null   int64  \n",
            " 78  SaleType        1460 non-null   object \n",
            " 79  SaleCondition   1460 non-null   object \n",
            " 80  SalePrice       1460 non-null   int64  \n",
            " 81  KitchenQualNum  1460 non-null   int64  \n",
            "dtypes: float64(3), int64(36), object(43)\n",
            "memory usage: 935.4+ KB\n"
          ]
        },
        {
          "data": {
            "image/png": "[encoded data removed]",
            "text/plain": [
              "<Figure size 640x480 with 1 Axes>"
            ]
          },
          "metadata": {},
          "output_type": "display_data"
        }
      ],
      "source": [
        "# Verificar informações gerais do conjunto de dados\n",
        "df.info()\n",
        "\n",
        "# Estatísticas descritivas\n",
        "df.describe()\n",
        "\n",
        "# Verificar valores ausentes\n",
        "df.isnull().sum().sort_values(ascending=False).head(20)\n",
        "\n",
        "# Visualizar a distribuição do preço de venda\n",
        "sns.histplot(df['SalePrice'], bins=30, kde=True)\n",
        "plt.title('Distribuição do Preço de Venda')\n",
        "plt.xlabel('Preço de Venda')\n",
        "plt.ylabel('Frequência')\n",
        "plt.show()"
      ]
    },
    {
      "cell_type": "markdown",
      "metadata": {
        "id": "3AG8QGLXff1Q"
      },
      "source": [
        "4. Pré-processamento dos Dados\n",
        "Aplicar transformações permitidas (log, raiz quadrada, quadrado, inverso) e tratar valores ausentes."
      ]
    },
    {
      "cell_type": "code",
      "execution_count": null,
      "metadata": {
        "id": "UVnIVXSxfoTr"
      },
      "outputs": [],
      "source": [
        "# Exemplo: Aplicar log na variável alvo\n",
        "#df['Log_SalePrice'] = np.log(df['SalePrice'])\n",
        "\n",
        "# Exemplo: Aplicar raiz quadrada em uma variável preditora\n",
        "#df['Sqrt_GrLivArea'] = np.sqrt(df['GrLivArea'])\n",
        "\n",
        "# Tratar valores ausentes (exemplo: preencher com a média)\n",
        "#df['LotFrontage'].fillna(df['LotFrontage'].mean(), inplace=True)\n",
        "#df['PoolArea'] = df['PoolArea'].fillna(df['PoolArea'].mean())\n",
        "#df['GarageCars'] = df['GarageCars'].fillna(df['GarageCars'].mean())\n",
        "#df['FullBath'] = df['FullBath'] * 1000\n",
        "#df['BedroomAbvGr'] = df['BedroomAbvGr'] * 1000\n",
        "# Aplicar log na variável alvo\n",
        "#df['Log_SalePrice'] = np.log(df['SalePrice'])\n",
        "\n",
        "# Aplicar raiz quadrada em uma variável preditora\n",
        "#df['Sqrt_GrLivArea'] = np.sqrt(df['Gr Liv Area'])\n",
        "\n",
        "# Tratar valores ausentes (exemplo: preencher com a média)\n",
        "#df['Lot Frontage'].fillna(df['Lot Frontage'].mean(), inplace=True)\n",
        "\n",
        "\n",
        "\n"
      ]
    },
    {
      "cell_type": "markdown",
      "metadata": {
        "id": "db3aRBlnfrMd"
      },
      "source": [
        "5. Seleção de Variáveis e Construção do Modelo\n",
        "Selecionar pelo menos 6 variáveis preditoras, aplicar as transformações necessárias e ajustar o modelo de regressão linear múltipla.​"
      ]
    },
    {
      "cell_type": "code",
      "execution_count": null,
      "metadata": {
        "colab": {
          "base_uri": "https://localhost:8080/"
        },
        "id": "jEyJi4bucQ4U",
        "outputId": "f27be6c8-4feb-42e4-9f74-21b6982d576a"
      },
      "outputs": [
        {
          "name": "stdout",
          "output_type": "stream",
          "text": [
            "['MoSold', 'OverallQual', 'GrLivArea', 'GarageCars', 'TotalBsmtSF', 'YearBuilt', 'KitchenQualNum', '1stFlrSF', 'YrSold', 'MiscVal', '3SsnPorch']\n"
          ]
        }
      ],
      "source": [
        "# Selecionar variáveis preditoras\n",
        "#features = ['LotFrontage', 'Overall Qual', 'Garage Cars', 'Total Bsmt SF', 'Year Built', 'Full Bath']\n",
        "#features =  ['LotFrontage', 'KitchenAbvGr','GarageCars','FullBath', 'BedroomAbvGr','LotArea']\n",
        "features =  ['MoSold','OverallQual', 'GrLivArea','GarageCars','TotalBsmtSF', 'YearBuilt','KitchenQualNum','1stFlrSF', 'YrSold','MiscVal','3SsnPorch']\n",
        "\n",
        "print(features)"
      ]
    },
    {
      "cell_type": "code",
      "execution_count": null,
      "metadata": {
        "id": "8GXyDcQpdTCi"
      },
      "outputs": [],
      "source": [
        "# Definir X e y\n",
        "X = df[features]\n",
        "#y = df['Log_SalePrice']\n",
        "y = df['SalePrice']\n",
        "# Dividir em conjuntos de treino e teste\n",
        "X_train, X_test, y_train, y_test = train_test_split(X, y, test_size=0.2, random_state=42)\n",
        "\n",
        "\n",
        "\n",
        "\n"
      ]
    },
    {
      "cell_type": "code",
      "execution_count": null,
      "metadata": {
        "colab": {
          "base_uri": "https://localhost:8080/"
        },
        "id": "uj0R14O80hb3",
        "outputId": "43524f18-e184-4b50-bd24-318e808cb4b9"
      },
      "outputs": [
        {
          "name": "stdout",
          "output_type": "stream",
          "text": [
            "0    208500\n",
            "1    181500\n",
            "2    223500\n",
            "3    140000\n",
            "4    250000\n",
            "Name: SalePrice, dtype: int64\n"
          ]
        }
      ],
      "source": [
        "print(y.head())"
      ]
    },
    {
      "cell_type": "code",
      "execution_count": null,
      "metadata": {
        "colab": {
          "base_uri": "https://localhost:8080/",
          "height": 80
        },
        "id": "u_hLkxeHdwsu",
        "outputId": "c9a411fd-6777-488f-f5d1-a5f2ed5875b7"
      },
      "outputs": [
        {
          "data": {
            "text/html": [
              "<style>#sk-container-id-14 {\n",
              "  /* Definition of color scheme common for light and dark mode */\n",
              "  --sklearn-color-text: #000;\n",
              "  --sklearn-color-text-muted: #666;\n",
              "  --sklearn-color-line: gray;\n",
              "  /* Definition of color scheme for unfitted estimators */\n",
              "  --sklearn-color-unfitted-level-0: #fff5e6;\n",
              "  --sklearn-color-unfitted-level-1: #f6e4d2;\n",
              "  --sklearn-color-unfitted-level-2: #ffe0b3;\n",
              "  --sklearn-color-unfitted-level-3: chocolate;\n",
              "  /* Definition of color scheme for fitted estimators */\n",
              "  --sklearn-color-fitted-level-0: #f0f8ff;\n",
              "  --sklearn-color-fitted-level-1: #d4ebff;\n",
              "  --sklearn-color-fitted-level-2: #b3dbfd;\n",
              "  --sklearn-color-fitted-level-3: cornflowerblue;\n",
              "\n",
              "  /* Specific color for light theme */\n",
              "  --sklearn-color-text-on-default-background: var(--sg-text-color, var(--theme-code-foreground, var(--jp-content-font-color1, black)));\n",
              "  --sklearn-color-background: var(--sg-background-color, var(--theme-background, var(--jp-layout-color0, white)));\n",
              "  --sklearn-color-border-box: var(--sg-text-color, var(--theme-code-foreground, var(--jp-content-font-color1, black)));\n",
              "  --sklearn-color-icon: #696969;\n",
              "\n",
              "  @media (prefers-color-scheme: dark) {\n",
              "    /* Redefinition of color scheme for dark theme */\n",
              "    --sklearn-color-text-on-default-background: var(--sg-text-color, var(--theme-code-foreground, var(--jp-content-font-color1, white)));\n",
              "    --sklearn-color-background: var(--sg-background-color, var(--theme-background, var(--jp-layout-color0, #111)));\n",
              "    --sklearn-color-border-box: var(--sg-text-color, var(--theme-code-foreground, var(--jp-content-font-color1, white)));\n",
              "    --sklearn-color-icon: #878787;\n",
              "  }\n",
              "}\n",
              "\n",
              "#sk-container-id-14 {\n",
              "  color: var(--sklearn-color-text);\n",
              "}\n",
              "\n",
              "#sk-container-id-14 pre {\n",
              "  padding: 0;\n",
              "}\n",
              "\n",
              "#sk-container-id-14 input.sk-hidden--visually {\n",
              "  border: 0;\n",
              "  clip: rect(1px 1px 1px 1px);\n",
              "  clip: rect(1px, 1px, 1px, 1px);\n",
              "  height: 1px;\n",
              "  margin: -1px;\n",
              "  overflow: hidden;\n",
              "  padding: 0;\n",
              "  position: absolute;\n",
              "  width: 1px;\n",
              "}\n",
              "\n",
              "#sk-container-id-14 div.sk-dashed-wrapped {\n",
              "  border: 1px dashed var(--sklearn-color-line);\n",
              "  margin: 0 0.4em 0.5em 0.4em;\n",
              "  box-sizing: border-box;\n",
              "  padding-bottom: 0.4em;\n",
              "  background-color: var(--sklearn-color-background);\n",
              "}\n",
              "\n",
              "#sk-container-id-14 div.sk-container {\n",
              "  /* jupyter's `normalize.less` sets `[hidden] { display: none; }`\n",
              "     but bootstrap.min.css set `[hidden] { display: none !important; }`\n",
              "     so we also need the `!important` here to be able to override the\n",
              "     default hidden behavior on the sphinx rendered scikit-learn.org.\n",
              "     See: https://github.com/scikit-learn/scikit-learn/issues/21755 */\n",
              "  display: inline-block !important;\n",
              "  position: relative;\n",
              "}\n",
              "\n",
              "#sk-container-id-14 div.sk-text-repr-fallback {\n",
              "  display: none;\n",
              "}\n",
              "\n",
              "div.sk-parallel-item,\n",
              "div.sk-serial,\n",
              "div.sk-item {\n",
              "  /* draw centered vertical line to link estimators */\n",
              "  background-image: linear-gradient(var(--sklearn-color-text-on-default-background), var(--sklearn-color-text-on-default-background));\n",
              "  background-size: 2px 100%;\n",
              "  background-repeat: no-repeat;\n",
              "  background-position: center center;\n",
              "}\n",
              "\n",
              "/* Parallel-specific style estimator block */\n",
              "\n",
              "#sk-container-id-14 div.sk-parallel-item::after {\n",
              "  content: \"\";\n",
              "  width: 100%;\n",
              "  border-bottom: 2px solid var(--sklearn-color-text-on-default-background);\n",
              "  flex-grow: 1;\n",
              "}\n",
              "\n",
              "#sk-container-id-14 div.sk-parallel {\n",
              "  display: flex;\n",
              "  align-items: stretch;\n",
              "  justify-content: center;\n",
              "  background-color: var(--sklearn-color-background);\n",
              "  position: relative;\n",
              "}\n",
              "\n",
              "#sk-container-id-14 div.sk-parallel-item {\n",
              "  display: flex;\n",
              "  flex-direction: column;\n",
              "}\n",
              "\n",
              "#sk-container-id-14 div.sk-parallel-item:first-child::after {\n",
              "  align-self: flex-end;\n",
              "  width: 50%;\n",
              "}\n",
              "\n",
              "#sk-container-id-14 div.sk-parallel-item:last-child::after {\n",
              "  align-self: flex-start;\n",
              "  width: 50%;\n",
              "}\n",
              "\n",
              "#sk-container-id-14 div.sk-parallel-item:only-child::after {\n",
              "  width: 0;\n",
              "}\n",
              "\n",
              "/* Serial-specific style estimator block */\n",
              "\n",
              "#sk-container-id-14 div.sk-serial {\n",
              "  display: flex;\n",
              "  flex-direction: column;\n",
              "  align-items: center;\n",
              "  background-color: var(--sklearn-color-background);\n",
              "  padding-right: 1em;\n",
              "  padding-left: 1em;\n",
              "}\n",
              "\n",
              "\n",
              "/* Toggleable style: style used for estimator/Pipeline/ColumnTransformer box that is\n",
              "clickable and can be expanded/collapsed.\n",
              "- Pipeline and ColumnTransformer use this feature and define the default style\n",
              "- Estimators will overwrite some part of the style using the `sk-estimator` class\n",
              "*/\n",
              "\n",
              "/* Pipeline and ColumnTransformer style (default) */\n",
              "\n",
              "#sk-container-id-14 div.sk-toggleable {\n",
              "  /* Default theme specific background. It is overwritten whether we have a\n",
              "  specific estimator or a Pipeline/ColumnTransformer */\n",
              "  background-color: var(--sklearn-color-background);\n",
              "}\n",
              "\n",
              "/* Toggleable label */\n",
              "#sk-container-id-14 label.sk-toggleable__label {\n",
              "  cursor: pointer;\n",
              "  display: flex;\n",
              "  width: 100%;\n",
              "  margin-bottom: 0;\n",
              "  padding: 0.5em;\n",
              "  box-sizing: border-box;\n",
              "  text-align: center;\n",
              "  align-items: start;\n",
              "  justify-content: space-between;\n",
              "  gap: 0.5em;\n",
              "}\n",
              "\n",
              "#sk-container-id-14 label.sk-toggleable__label .caption {\n",
              "  font-size: 0.6rem;\n",
              "  font-weight: lighter;\n",
              "  color: var(--sklearn-color-text-muted);\n",
              "}\n",
              "\n",
              "#sk-container-id-14 label.sk-toggleable__label-arrow:before {\n",
              "  /* Arrow on the left of the label */\n",
              "  content: \"▸\";\n",
              "  float: left;\n",
              "  margin-right: 0.25em;\n",
              "  color: var(--sklearn-color-icon);\n",
              "}\n",
              "\n",
              "#sk-container-id-14 label.sk-toggleable__label-arrow:hover:before {\n",
              "  color: var(--sklearn-color-text);\n",
              "}\n",
              "\n",
              "/* Toggleable content - dropdown */\n",
              "\n",
              "#sk-container-id-14 div.sk-toggleable__content {\n",
              "  max-height: 0;\n",
              "  max-width: 0;\n",
              "  overflow: hidden;\n",
              "  text-align: left;\n",
              "  /* unfitted */\n",
              "  background-color: var(--sklearn-color-unfitted-level-0);\n",
              "}\n",
              "\n",
              "#sk-container-id-14 div.sk-toggleable__content.fitted {\n",
              "  /* fitted */\n",
              "  background-color: var(--sklearn-color-fitted-level-0);\n",
              "}\n",
              "\n",
              "#sk-container-id-14 div.sk-toggleable__content pre {\n",
              "  margin: 0.2em;\n",
              "  border-radius: 0.25em;\n",
              "  color: var(--sklearn-color-text);\n",
              "  /* unfitted */\n",
              "  background-color: var(--sklearn-color-unfitted-level-0);\n",
              "}\n",
              "\n",
              "#sk-container-id-14 div.sk-toggleable__content.fitted pre {\n",
              "  /* unfitted */\n",
              "  background-color: var(--sklearn-color-fitted-level-0);\n",
              "}\n",
              "\n",
              "#sk-container-id-14 input.sk-toggleable__control:checked~div.sk-toggleable__content {\n",
              "  /* Expand drop-down */\n",
              "  max-height: 200px;\n",
              "  max-width: 100%;\n",
              "  overflow: auto;\n",
              "}\n",
              "\n",
              "#sk-container-id-14 input.sk-toggleable__control:checked~label.sk-toggleable__label-arrow:before {\n",
              "  content: \"▾\";\n",
              "}\n",
              "\n",
              "/* Pipeline/ColumnTransformer-specific style */\n",
              "\n",
              "#sk-container-id-14 div.sk-label input.sk-toggleable__control:checked~label.sk-toggleable__label {\n",
              "  color: var(--sklearn-color-text);\n",
              "  background-color: var(--sklearn-color-unfitted-level-2);\n",
              "}\n",
              "\n",
              "#sk-container-id-14 div.sk-label.fitted input.sk-toggleable__control:checked~label.sk-toggleable__label {\n",
              "  background-color: var(--sklearn-color-fitted-level-2);\n",
              "}\n",
              "\n",
              "/* Estimator-specific style */\n",
              "\n",
              "/* Colorize estimator box */\n",
              "#sk-container-id-14 div.sk-estimator input.sk-toggleable__control:checked~label.sk-toggleable__label {\n",
              "  /* unfitted */\n",
              "  background-color: var(--sklearn-color-unfitted-level-2);\n",
              "}\n",
              "\n",
              "#sk-container-id-14 div.sk-estimator.fitted input.sk-toggleable__control:checked~label.sk-toggleable__label {\n",
              "  /* fitted */\n",
              "  background-color: var(--sklearn-color-fitted-level-2);\n",
              "}\n",
              "\n",
              "#sk-container-id-14 div.sk-label label.sk-toggleable__label,\n",
              "#sk-container-id-14 div.sk-label label {\n",
              "  /* The background is the default theme color */\n",
              "  color: var(--sklearn-color-text-on-default-background);\n",
              "}\n",
              "\n",
              "/* On hover, darken the color of the background */\n",
              "#sk-container-id-14 div.sk-label:hover label.sk-toggleable__label {\n",
              "  color: var(--sklearn-color-text);\n",
              "  background-color: var(--sklearn-color-unfitted-level-2);\n",
              "}\n",
              "\n",
              "/* Label box, darken color on hover, fitted */\n",
              "#sk-container-id-14 div.sk-label.fitted:hover label.sk-toggleable__label.fitted {\n",
              "  color: var(--sklearn-color-text);\n",
              "  background-color: var(--sklearn-color-fitted-level-2);\n",
              "}\n",
              "\n",
              "/* Estimator label */\n",
              "\n",
              "#sk-container-id-14 div.sk-label label {\n",
              "  font-family: monospace;\n",
              "  font-weight: bold;\n",
              "  display: inline-block;\n",
              "  line-height: 1.2em;\n",
              "}\n",
              "\n",
              "#sk-container-id-14 div.sk-label-container {\n",
              "  text-align: center;\n",
              "}\n",
              "\n",
              "/* Estimator-specific */\n",
              "#sk-container-id-14 div.sk-estimator {\n",
              "  font-family: monospace;\n",
              "  border: 1px dotted var(--sklearn-color-border-box);\n",
              "  border-radius: 0.25em;\n",
              "  box-sizing: border-box;\n",
              "  margin-bottom: 0.5em;\n",
              "  /* unfitted */\n",
              "  background-color: var(--sklearn-color-unfitted-level-0);\n",
              "}\n",
              "\n",
              "#sk-container-id-14 div.sk-estimator.fitted {\n",
              "  /* fitted */\n",
              "  background-color: var(--sklearn-color-fitted-level-0);\n",
              "}\n",
              "\n",
              "/* on hover */\n",
              "#sk-container-id-14 div.sk-estimator:hover {\n",
              "  /* unfitted */\n",
              "  background-color: var(--sklearn-color-unfitted-level-2);\n",
              "}\n",
              "\n",
              "#sk-container-id-14 div.sk-estimator.fitted:hover {\n",
              "  /* fitted */\n",
              "  background-color: var(--sklearn-color-fitted-level-2);\n",
              "}\n",
              "\n",
              "/* Specification for estimator info (e.g. \"i\" and \"?\") */\n",
              "\n",
              "/* Common style for \"i\" and \"?\" */\n",
              "\n",
              ".sk-estimator-doc-link,\n",
              "a:link.sk-estimator-doc-link,\n",
              "a:visited.sk-estimator-doc-link {\n",
              "  float: right;\n",
              "  font-size: smaller;\n",
              "  line-height: 1em;\n",
              "  font-family: monospace;\n",
              "  background-color: var(--sklearn-color-background);\n",
              "  border-radius: 1em;\n",
              "  height: 1em;\n",
              "  width: 1em;\n",
              "  text-decoration: none !important;\n",
              "  margin-left: 0.5em;\n",
              "  text-align: center;\n",
              "  /* unfitted */\n",
              "  border: var(--sklearn-color-unfitted-level-1) 1pt solid;\n",
              "  color: var(--sklearn-color-unfitted-level-1);\n",
              "}\n",
              "\n",
              ".sk-estimator-doc-link.fitted,\n",
              "a:link.sk-estimator-doc-link.fitted,\n",
              "a:visited.sk-estimator-doc-link.fitted {\n",
              "  /* fitted */\n",
              "  border: var(--sklearn-color-fitted-level-1) 1pt solid;\n",
              "  color: var(--sklearn-color-fitted-level-1);\n",
              "}\n",
              "\n",
              "/* On hover */\n",
              "div.sk-estimator:hover .sk-estimator-doc-link:hover,\n",
              ".sk-estimator-doc-link:hover,\n",
              "div.sk-label-container:hover .sk-estimator-doc-link:hover,\n",
              ".sk-estimator-doc-link:hover {\n",
              "  /* unfitted */\n",
              "  background-color: var(--sklearn-color-unfitted-level-3);\n",
              "  color: var(--sklearn-color-background);\n",
              "  text-decoration: none;\n",
              "}\n",
              "\n",
              "div.sk-estimator.fitted:hover .sk-estimator-doc-link.fitted:hover,\n",
              ".sk-estimator-doc-link.fitted:hover,\n",
              "div.sk-label-container:hover .sk-estimator-doc-link.fitted:hover,\n",
              ".sk-estimator-doc-link.fitted:hover {\n",
              "  /* fitted */\n",
              "  background-color: var(--sklearn-color-fitted-level-3);\n",
              "  color: var(--sklearn-color-background);\n",
              "  text-decoration: none;\n",
              "}\n",
              "\n",
              "/* Span, style for the box shown on hovering the info icon */\n",
              ".sk-estimator-doc-link span {\n",
              "  display: none;\n",
              "  z-index: 9999;\n",
              "  position: relative;\n",
              "  font-weight: normal;\n",
              "  right: .2ex;\n",
              "  padding: .5ex;\n",
              "  margin: .5ex;\n",
              "  width: min-content;\n",
              "  min-width: 20ex;\n",
              "  max-width: 50ex;\n",
              "  color: var(--sklearn-color-text);\n",
              "  box-shadow: 2pt 2pt 4pt #999;\n",
              "  /* unfitted */\n",
              "  background: var(--sklearn-color-unfitted-level-0);\n",
              "  border: .5pt solid var(--sklearn-color-unfitted-level-3);\n",
              "}\n",
              "\n",
              ".sk-estimator-doc-link.fitted span {\n",
              "  /* fitted */\n",
              "  background: var(--sklearn-color-fitted-level-0);\n",
              "  border: var(--sklearn-color-fitted-level-3);\n",
              "}\n",
              "\n",
              ".sk-estimator-doc-link:hover span {\n",
              "  display: block;\n",
              "}\n",
              "\n",
              "/* \"?\"-specific style due to the `<a>` HTML tag */\n",
              "\n",
              "#sk-container-id-14 a.estimator_doc_link {\n",
              "  float: right;\n",
              "  font-size: 1rem;\n",
              "  line-height: 1em;\n",
              "  font-family: monospace;\n",
              "  background-color: var(--sklearn-color-background);\n",
              "  border-radius: 1rem;\n",
              "  height: 1rem;\n",
              "  width: 1rem;\n",
              "  text-decoration: none;\n",
              "  /* unfitted */\n",
              "  color: var(--sklearn-color-unfitted-level-1);\n",
              "  border: var(--sklearn-color-unfitted-level-1) 1pt solid;\n",
              "}\n",
              "\n",
              "#sk-container-id-14 a.estimator_doc_link.fitted {\n",
              "  /* fitted */\n",
              "  border: var(--sklearn-color-fitted-level-1) 1pt solid;\n",
              "  color: var(--sklearn-color-fitted-level-1);\n",
              "}\n",
              "\n",
              "/* On hover */\n",
              "#sk-container-id-14 a.estimator_doc_link:hover {\n",
              "  /* unfitted */\n",
              "  background-color: var(--sklearn-color-unfitted-level-3);\n",
              "  color: var(--sklearn-color-background);\n",
              "  text-decoration: none;\n",
              "}\n",
              "\n",
              "#sk-container-id-14 a.estimator_doc_link.fitted:hover {\n",
              "  /* fitted */\n",
              "  background-color: var(--sklearn-color-fitted-level-3);\n",
              "}\n",
              "</style><div id=\"sk-container-id-14\" class=\"sk-top-container\"><div class=\"sk-text-repr-fallback\"><pre>DecisionTreeRegressor(random_state=1)</pre><b>In a Jupyter environment, please rerun this cell to show the HTML representation or trust the notebook. <br />On GitHub, the HTML representation is unable to render, please try loading this page with nbviewer.org.</b></div><div class=\"sk-container\" hidden><div class=\"sk-item\"><div class=\"sk-estimator fitted sk-toggleable\"><input class=\"sk-toggleable__control sk-hidden--visually\" id=\"sk-estimator-id-14\" type=\"checkbox\" checked><label for=\"sk-estimator-id-14\" class=\"sk-toggleable__label fitted sk-toggleable__label-arrow\"><div><div>DecisionTreeRegressor</div></div><div><a class=\"sk-estimator-doc-link fitted\" rel=\"noreferrer\" target=\"_blank\" href=\"https://scikit-learn.org/1.6/modules/generated/sklearn.tree.DecisionTreeRegressor.html\">?<span>Documentation for DecisionTreeRegressor</span></a><span class=\"sk-estimator-doc-link fitted\">i<span>Fitted</span></span></div></label><div class=\"sk-toggleable__content fitted\"><pre>DecisionTreeRegressor(random_state=1)</pre></div> </div></div></div></div>"
            ],
            "text/plain": [
              "DecisionTreeRegressor(random_state=1)"
            ]
          },
          "execution_count": 108,
          "metadata": {},
          "output_type": "execute_result"
        }
      ],
      "source": [
        "from sklearn.tree import DecisionTreeRegressor\n",
        "model = DecisionTreeRegressor(random_state=1)\n",
        "\n",
        "# Fit the model\n",
        "model.fit(X_train, y_train)"
      ]
    },
    {
      "cell_type": "code",
      "execution_count": null,
      "metadata": {
        "colab": {
          "base_uri": "https://localhost:8080/"
        },
        "id": "qwmH-ewM3C8i",
        "outputId": "cdb6317b-e754-4b09-d2ad-d7d270791fbe"
      },
      "outputs": [
        {
          "name": "stdout",
          "output_type": "stream",
          "text": [
            "Primeiras previsões na amostra: [145000. 178000.  85000. 175000. 127000.]\n"
          ]
        }
      ],
      "source": [
        "print(\"Primeiras previsões na amostra:\", model.predict(X_train.head()))\n"
      ]
    },
    {
      "cell_type": "code",
      "execution_count": null,
      "metadata": {
        "colab": {
          "base_uri": "https://localhost:8080/"
        },
        "id": "VMqz6P5NcAb6",
        "outputId": "518a82c6-3011-47ae-8f31-e171d3e8478c"
      },
      "outputs": [
        {
          "name": "stdout",
          "output_type": "stream",
          "text": [
            "R²: 0.8058\n",
            "RMSE: 38594.8314\n"
          ]
        }
      ],
      "source": [
        "# Prever no conjunto de teste\n",
        "y_pred = model.predict(X_test)\n",
        "\n",
        "# Avaliar o modelo\n",
        "r2 = r2_score(y_test, y_pred)\n",
        "rmse = np.sqrt(mean_squared_error(y_test, y_pred))\n",
        "\n",
        "print(f'R²: {r2:.4f}')\n",
        "print(f'RMSE: {rmse:.4f}')\n"
      ]
    },
    {
      "cell_type": "markdown",
      "metadata": {
        "id": "H2DqRo3LRd9a"
      },
      "source": [
        "Validação do Modelo\n",
        "Você precisará avaliar quase todos os modelos que construir. Na maioria das aplicações (embora não em todas), a medida relevante da qualidade do modelo é a precisão preditiva. Em outras palavras, as previsões do modelo serão próximas do que realmente acontece?"
      ]
    },
    {
      "cell_type": "markdown",
      "metadata": {
        "id": "rF4-D5YuRz5q"
      },
      "source": [
        "Mean Absolute Error (MAE)\n",
        "Se uma casa custou 150.000 e você previu que custaria 100.000, o erro é de 50.000. A métrica MAE calcula o valor absoluto de cada erro. Depois, a média desses erros absolutos. Em média, as previsões estão erradas em cerca de X."
      ]
    },
    {
      "cell_type": "code",
      "execution_count": null,
      "metadata": {
        "colab": {
          "base_uri": "https://localhost:8080/"
        },
        "id": "bMMqlimfSAw5",
        "outputId": "46b16d95-664e-4a57-b209-affd32d2f041"
      },
      "outputs": [
        {
          "name": "stdout",
          "output_type": "stream",
          "text": [
            "MAE treinamento: 4983.9432\n",
            "MAE teste: 24859.6712\n"
          ]
        }
      ],
      "source": [
        "from sklearn.metrics import mean_absolute_error\n",
        "\n",
        "predicted_home_prices = model.predict(X)\n",
        "maetrain = mean_absolute_error(y, predicted_home_prices)\n",
        "\n",
        "test_predictions = model.predict(X_test)\n",
        "maetest = mean_absolute_error(y_test, test_predictions)\n",
        "\n",
        "print(f'MAE treinamento: {maetrain:.4f}')\n",
        "print(f'MAE teste: {maetest:.4f}')\n",
        "\n",
        "\n",
        "\n"
      ]
    },
    {
      "cell_type": "markdown",
      "metadata": {
        "id": "Xia0kzn-VI4s"
      },
      "source": [
        "O que representa estes erros? Como podemos melhorar o modelo? Vamos mudar o método de regressão?"
      ]
    },
    {
      "cell_type": "code",
      "execution_count": null,
      "metadata": {
        "id": "2QRV_VupgDmy"
      },
      "outputs": [],
      "source": []
    }
  ],
  "metadata": {
    "colab": {
      "include_colab_link": true,
      "provenance": []
    },
    "kernelspec": {
      "display_name": "Python 3",
      "name": "python3"
    },
    "language_info": {
      "codemirror_mode": {
        "name": "ipython",
        "version": 3
      },
      "file_extension": ".py",
      "mimetype": "text/x-python",
      "name": "python",
      "nbconvert_exporter": "python",
      "pygments_lexer": "ipython3",
      "version": "3.13.3"
    }
  },
  "nbformat": 4,
  "nbformat_minor": 0
}
